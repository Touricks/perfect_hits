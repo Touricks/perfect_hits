{
  "cells": [
    {
      "cell_type": "markdown",
      "metadata": {
        "id": "view-in-github",
        "colab_type": "text"
      },
      "source": [
        "<a href=\"https://colab.research.google.com/github/Touricks/perfect_hits/blob/main/Project1_DataAccessQC.ipynb\" target=\"_parent\"><img src=\"https://colab.research.google.com/assets/colab-badge.svg\" alt=\"Open In Colab\"/></a>"
      ]
    },
    {
      "cell_type": "markdown",
      "id": "f13fe33e",
      "metadata": {
        "id": "f13fe33e"
      },
      "source": [
        "![logo-gt.png](attachment:logo-gt.png)"
      ]
    },
    {
      "cell_type": "code",
      "source": [],
      "metadata": {
        "id": "4FDu_ToT-UuV"
      },
      "id": "4FDu_ToT-UuV",
      "execution_count": null,
      "outputs": []
    },
    {
      "cell_type": "code",
      "source": [],
      "metadata": {
        "id": "f2JbNUr8-U6k"
      },
      "id": "f2JbNUr8-U6k",
      "execution_count": null,
      "outputs": []
    },
    {
      "cell_type": "markdown",
      "id": "e53587e1",
      "metadata": {
        "id": "e53587e1"
      },
      "source": [
        "<div class=\"alert alert-block alert-info\">\n",
        "    <h1>BIOS 4150/BIOL 6150</h1>\n",
        "    <h3>Instructor: Dr. King Jordan</h3>\n",
        "    <p>Shivam Sharma (shivamsharma13@gatech.edu),</p>\n",
        "    <p>Nilavrah Sensarma (nsensarma3@gatech.edu),</p>\n",
        "    <p>Bengy Gyimah-Asamoah, (bgyimaha3@gatech.edu)</p>\n",
        "</p>\n",
        "</div>"
      ]
    },
    {
      "cell_type": "markdown",
      "id": "4c342f3f",
      "metadata": {
        "id": "4c342f3f"
      },
      "source": [
        "<div class=\"alert alert-block alert-warning\">\n",
        "    <h2>Project 1 (Data access & QC) starter notebook</h2>\n",
        "    <h3>Deadline: 11:59PM, September 24rd, 2024</h3>\n",
        "</div>"
      ]
    },
    {
      "cell_type": "markdown",
      "id": "879a14ff",
      "metadata": {
        "id": "879a14ff"
      },
      "source": [
        "---"
      ]
    },
    {
      "cell_type": "markdown",
      "id": "f404ae11",
      "metadata": {
        "id": "f404ae11"
      },
      "source": [
        "# **1. Your assigned 1000 Genomes individual**\n",
        "### *Total Questions: 3*\n",
        "### *Total Points: 3+3+4 = 10*\n",
        "\n",
        "\n",
        "---"
      ]
    },
    {
      "cell_type": "markdown",
      "id": "69ff09a1",
      "metadata": {
        "id": "69ff09a1"
      },
      "source": [
        "<div class=\"alert alert-block alert-warning\">\n",
        "    <h3>1.1 Does you group have an assigned individual ID from the 1000 Genomes Project?</h3>\n",
        "    <p>Find the individual on the international genomes website and paste a screenshot below</p>\n",
        "</div>"
      ]
    },
    {
      "cell_type": "code",
      "execution_count": null,
      "id": "9a5c6620",
      "metadata": {
        "id": "9a5c6620"
      },
      "outputs": [],
      "source": [
        "##Add image here for 1.1\n",
        "Edited can you see\n"
      ]
    },
    {
      "cell_type": "markdown",
      "id": "cad8ccda",
      "metadata": {
        "id": "cad8ccda"
      },
      "source": [
        "<div class=\"alert alert-block alert-warning\">\n",
        "    <h3>1.2 What population does your assigned individual belong to?</h3>\n",
        "    <p>Write about where the geographical location of where this individual lived at the time of recruitment? </p>\n",
        "</div>"
      ]
    },
    {
      "cell_type": "code",
      "execution_count": null,
      "id": "aaa946ba",
      "metadata": {
        "id": "aaa946ba"
      },
      "outputs": [],
      "source": [
        "#Write about the individual and their ancestors here."
      ]
    },
    {
      "cell_type": "markdown",
      "id": "c9db3bcf",
      "metadata": {
        "id": "c9db3bcf"
      },
      "source": [
        "<div class=\"alert alert-block alert-warning\">\n",
        "    <h3>1.3 More about your individual's population?</h3>\n",
        "    <p>Read more about this population and write about their recent historical  (100-500 years) ancestors.</p>\n",
        "</div>"
      ]
    },
    {
      "cell_type": "code",
      "execution_count": null,
      "id": "3637229e",
      "metadata": {
        "id": "3637229e"
      },
      "outputs": [],
      "source": [
        "#Write about the individual and their ancestors here."
      ]
    },
    {
      "cell_type": "markdown",
      "id": "1be29a73",
      "metadata": {
        "id": "1be29a73"
      },
      "source": [
        "# **2. Exome sequencing**\n",
        "### *Total Questions: 3*\n",
        "### *Total Points: 5+5=10*\n",
        "\n",
        "\n",
        "---"
      ]
    },
    {
      "cell_type": "markdown",
      "id": "af2bb9d3",
      "metadata": {
        "id": "af2bb9d3"
      },
      "source": [
        "<div class=\"alert alert-block alert-warning\">\n",
        "    <h3>2.1 Does your assigned individual has exome sequencing data? If yes, then what is the SRR ID for that sequencing run?</h3>\n",
        "    <p>Does you individual have multiple SRR IDs? In case they do, which one would you pick? (Hint: The sequencing information is coming from the same individual; but larger file size might be more preferable)</p>\n",
        "</div>"
      ]
    },
    {
      "cell_type": "code",
      "execution_count": null,
      "id": "2ad2828b",
      "metadata": {
        "id": "2ad2828b"
      },
      "outputs": [],
      "source": [
        "#Write about the SRR ID here."
      ]
    },
    {
      "cell_type": "markdown",
      "id": "fca94a31",
      "metadata": {
        "id": "fca94a31"
      },
      "source": [
        "<div class=\"alert alert-block alert-warning\">\n",
        "    <h3>2.2 Looking at just the exome sequencing of this individual, how many variants would you expect them to carry compared to the reference genome?</h3>\n",
        "    <p>Keep in mind this is 1 individual, and learn about the expected number of variants from WGS, WES, and Genotyping</p>\n",
        "</div>"
      ]
    },
    {
      "cell_type": "code",
      "execution_count": null,
      "id": "59f85e82",
      "metadata": {
        "id": "59f85e82"
      },
      "outputs": [],
      "source": [
        "#Write about the variant information here."
      ]
    },
    {
      "cell_type": "markdown",
      "id": "9190c760",
      "metadata": {
        "id": "9190c760"
      },
      "source": [
        "# **3. Data access**\n",
        "### *Total Questions: 3*\n",
        "### *Total Points: 5+5 = 10*\n",
        "\n",
        "\n",
        "---"
      ]
    },
    {
      "cell_type": "markdown",
      "id": "be2163af",
      "metadata": {
        "id": "be2163af"
      },
      "source": [
        "<div class=\"alert alert-block alert-warning\">\n",
        "    <h3>3.1 Download the exome sequencing data for this individual and write the size of the files?</h3>\n",
        "    <p>3.1.1 How many files do you have? Is the sequencing paired?</p>\n",
        "    <p>3.1.2 How many reads are present in each file? </p>\n",
        "</div>"
      ]
    },
    {
      "cell_type": "code",
      "execution_count": null,
      "id": "0f16c8cb",
      "metadata": {
        "id": "0f16c8cb"
      },
      "outputs": [],
      "source": [
        "#Show you download commamd and ls the directory."
      ]
    },
    {
      "cell_type": "code",
      "execution_count": null,
      "id": "8716151e",
      "metadata": {
        "id": "8716151e"
      },
      "outputs": [],
      "source": [
        "#Write about the fastq file here."
      ]
    },
    {
      "cell_type": "code",
      "execution_count": null,
      "id": "7f8110c2",
      "metadata": {
        "id": "7f8110c2"
      },
      "outputs": [],
      "source": [
        "#Write about the fastq file here."
      ]
    },
    {
      "cell_type": "markdown",
      "id": "883898ab",
      "metadata": {
        "id": "883898ab"
      },
      "source": [
        "# **4. Pre-QC with FastQC**\n",
        "### *Total Questions: 2*\n",
        "### *Total Points: 6+6+8 = 20*\n",
        "\n",
        "\n",
        "---"
      ]
    },
    {
      "cell_type": "markdown",
      "id": "ce2355a7",
      "metadata": {
        "id": "ce2355a7"
      },
      "source": [
        "<div class=\"alert alert-block alert-warning\">\n",
        "    <h3>4.1 Show your exact command below.</h3>\n",
        "</div>"
      ]
    },
    {
      "cell_type": "code",
      "execution_count": null,
      "id": "714f8eab",
      "metadata": {
        "id": "714f8eab"
      },
      "outputs": [],
      "source": [
        "#Command here."
      ]
    },
    {
      "cell_type": "markdown",
      "id": "afe25fb4",
      "metadata": {
        "id": "afe25fb4"
      },
      "source": [
        "<div class=\"alert alert-block alert-warning\">\n",
        "    <h3>4.2 Show <i>per base sequencing quality</i>?</h3>\n",
        "    <p>Add a screenshot below</p>\n",
        "</div>"
      ]
    },
    {
      "cell_type": "code",
      "execution_count": null,
      "id": "333bc195",
      "metadata": {
        "id": "333bc195"
      },
      "outputs": [],
      "source": [
        "##Add image here for 4.1"
      ]
    },
    {
      "cell_type": "markdown",
      "id": "07530108",
      "metadata": {
        "id": "07530108"
      },
      "source": [
        "<div class=\"alert alert-block alert-warning\">\n",
        "    <h3>4.3 Show <i>Per base sequence content</i>?</h3>\n",
        "    <p>Add a screenshot below</p>\n",
        "</div>"
      ]
    },
    {
      "cell_type": "code",
      "execution_count": null,
      "id": "e402fd38",
      "metadata": {
        "id": "e402fd38"
      },
      "outputs": [],
      "source": [
        "##Add image here for 4.2"
      ]
    },
    {
      "cell_type": "markdown",
      "id": "fcfe1f2a",
      "metadata": {
        "id": "fcfe1f2a"
      },
      "source": [
        "# **5. Trimming with fastp or trimmmomatic**\n",
        "### *Total Questions: 3*\n",
        "### *Total Points: 10+10+10 = 30*\n",
        "\n",
        "\n",
        "---"
      ]
    },
    {
      "cell_type": "markdown",
      "id": "792ded3a",
      "metadata": {
        "id": "792ded3a"
      },
      "source": [
        "<div class=\"alert alert-block alert-warning\">\n",
        "    <h3>5.1 What was the tools and command you used?</h3>\n",
        "    <p>Write the tool name and exact command below</p>\n",
        "</div>"
      ]
    },
    {
      "cell_type": "code",
      "execution_count": null,
      "id": "13ed5873",
      "metadata": {
        "id": "13ed5873"
      },
      "outputs": [],
      "source": [
        "#Exact command here"
      ]
    },
    {
      "cell_type": "markdown",
      "id": "1fb95eaf",
      "metadata": {
        "id": "1fb95eaf"
      },
      "source": [
        "<div class=\"alert alert-block alert-warning\">\n",
        "    <h3>5.2 How did you perform the trimming?</h3>\n",
        "    <p>Did you use dynamic built in features or hard coded parameters?</p>\n",
        "    <p>Did you have to go back and repeat the trimming after run(s) for <b>postQC?</b></p>\n",
        "</div>"
      ]
    },
    {
      "cell_type": "code",
      "execution_count": null,
      "id": "9190e5d6",
      "metadata": {
        "id": "9190e5d6"
      },
      "outputs": [],
      "source": [
        "#Write here"
      ]
    },
    {
      "cell_type": "markdown",
      "id": "257bbac7",
      "metadata": {
        "id": "257bbac7"
      },
      "source": [
        "<div class=\"alert alert-block alert-warning\">\n",
        "    <h3>5.3 What percentage of reads did you lose in the trimming process?</h3>\n",
        "    <p>5.3.1 Write the total number of reads before and after trimming</p>\n",
        "    <p>5.3.2 If you had a paired fastq file, are there any reads after trimming present in one file and not the other? (eg: present in reverse but not in forward?)</p>\n",
        "    \n",
        "</div>"
      ]
    },
    {
      "cell_type": "code",
      "execution_count": null,
      "id": "b5bb7790",
      "metadata": {
        "id": "b5bb7790"
      },
      "outputs": [],
      "source": [
        "#Before trimming:\n",
        "#After trimming:"
      ]
    },
    {
      "cell_type": "markdown",
      "id": "37e3612c",
      "metadata": {
        "id": "37e3612c"
      },
      "source": [
        "# **6. Post-QC with FastQC?**\n",
        "### *Total Questions: 2*\n",
        "### *Total Points: 6+8+6=20*\n",
        "\n",
        "\n",
        "---"
      ]
    },
    {
      "cell_type": "markdown",
      "id": "f53ed1f0",
      "metadata": {
        "id": "f53ed1f0"
      },
      "source": [
        "<div class=\"alert alert-block alert-warning\">\n",
        "    <h3>6.1 Show your exact command below.</h3>\n",
        "</div>"
      ]
    },
    {
      "cell_type": "code",
      "execution_count": null,
      "id": "77128fd1",
      "metadata": {
        "id": "77128fd1"
      },
      "outputs": [],
      "source": [
        "#command here"
      ]
    },
    {
      "cell_type": "markdown",
      "id": "f41fbb01",
      "metadata": {
        "id": "f41fbb01"
      },
      "source": [
        "<div class=\"alert alert-block alert-warning\">\n",
        "    <h3>6.2 Show <i>per base sequencing quality</h3>\n",
        "    <p>If the quality was falling below 20 for certain regions then trim it. Add a screenshot below</p>\n",
        "</div>"
      ]
    },
    {
      "cell_type": "code",
      "execution_count": null,
      "id": "fcf8f877",
      "metadata": {
        "id": "fcf8f877"
      },
      "outputs": [],
      "source": [
        "##Add image here for 6.1"
      ]
    },
    {
      "cell_type": "markdown",
      "id": "f5d2678d",
      "metadata": {
        "id": "f5d2678d"
      },
      "source": [
        "<div class=\"alert alert-block alert-warning\">\n",
        "    <h3>6.3 Show <i>Per base sequence content</i>?</h3>\n",
        "    <p>Ideally we shouldn't see adapters at the beginning of the reads in the fastq files. Add a screenshot below</p>\n",
        "</div>"
      ]
    },
    {
      "cell_type": "code",
      "execution_count": null,
      "id": "db285545",
      "metadata": {
        "id": "db285545"
      },
      "outputs": [],
      "source": [
        "##Add image here for 6.2"
      ]
    },
    {
      "cell_type": "code",
      "execution_count": null,
      "id": "21b36766",
      "metadata": {
        "id": "21b36766"
      },
      "outputs": [],
      "source": []
    }
  ],
  "metadata": {
    "kernelspec": {
      "display_name": "Python [conda env:biol6150]",
      "language": "python",
      "name": "conda-env-biol6150-py"
    },
    "language_info": {
      "codemirror_mode": {
        "name": "ipython",
        "version": 3
      },
      "file_extension": ".py",
      "mimetype": "text/x-python",
      "name": "python",
      "nbconvert_exporter": "python",
      "pygments_lexer": "ipython3",
      "version": "3.11.5"
    },
    "colab": {
      "provenance": [],
      "include_colab_link": true
    }
  },
  "nbformat": 4,
  "nbformat_minor": 5
}